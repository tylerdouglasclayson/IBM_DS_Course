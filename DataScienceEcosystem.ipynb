{
 "cells": [
  {
   "cell_type": "markdown",
   "id": "1f3fd99d",
   "metadata": {},
   "source": [
    "<h1> Data Science Tools and Ecosystem </h1>"
   ]
  },
  {
   "cell_type": "markdown",
   "id": "496678ef",
   "metadata": {},
   "source": [
    "In this notebook, Data Science Tools and Ecosystem are summarized."
   ]
  },
  {
   "cell_type": "markdown",
   "id": "db788782",
   "metadata": {},
   "source": [
    "<h3>\n",
    "    Objectives:\n",
    "</h3>\n",
    "<li>Listing popular languages used by Data Scientists </li>\n",
    "<li>Listing commonly used libraries by Data Scientists </li>\n",
    "<li>Creating tables as a markdown output </li>\n",
    "<li>Demonstrating mathematical calculations with Python code </li>\n",
    "<li>And more!!! </li>"
   ]
  },
  {
   "cell_type": "markdown",
   "id": "a85ba826",
   "metadata": {},
   "source": [
    "Some of the popular languages that Data Scientists use are:\n",
    "<ol>\n",
    "<li>Python </li>\n",
    "<li>R </li>\n",
    "<li>C++ </li>\n",
    "</ol>"
   ]
  },
  {
   "cell_type": "markdown",
   "id": "c1049408",
   "metadata": {},
   "source": [
    "Some of the commonly used libraries used by Data Scientists include:\n",
    "<ol>\n",
    "<li>SciKit-learn </li>\n",
    "<li>Pandas </li>\n",
    "<li>Numpy </li>\n",
    "</ol>"
   ]
  },
  {
   "cell_type": "markdown",
   "id": "3c90827b",
   "metadata": {},
   "source": [
    "| Data Science Tools | \n",
    "| -------------| \n",
    "| Jupyter Notebook | \n",
    "| R Studio | \n",
    "| Visual Studio Code | "
   ]
  },
  {
   "cell_type": "markdown",
   "id": "df446c86",
   "metadata": {},
   "source": [
    "<h3>\n",
    "Below are a few examples of evaluating arithmetic expressions in Python\n",
    "</h3>"
   ]
  },
  {
   "cell_type": "code",
   "execution_count": 3,
   "id": "42a6e8f2",
   "metadata": {},
   "outputs": [
    {
     "data": {
      "text/plain": [
       "17"
      ]
     },
     "execution_count": 3,
     "metadata": {},
     "output_type": "execute_result"
    }
   ],
   "source": [
    "# This a simple arithmetic expression to multiply then add integers\n",
    "(3 * 4) + 5"
   ]
  },
  {
   "cell_type": "code",
   "execution_count": 1,
   "id": "ec2764e2",
   "metadata": {},
   "outputs": [
    {
     "name": "stdout",
     "output_type": "stream",
     "text": [
      "200 minutes is 3.33 hours.\n"
     ]
    }
   ],
   "source": [
    "# This will convert 200 minutes to hours by diving by 60\n",
    "minutes = 200\n",
    "hours = round(200 / 60, 2)\n",
    "\n",
    "print(minutes, \"minutes is\", hours, \"hours.\")"
   ]
  },
  {
   "cell_type": "markdown",
   "id": "ed638a18",
   "metadata": {},
   "source": [
    "<h2>\n",
    "    Author\n",
    "</h2>\n",
    "Tyler Clayson"
   ]
  }
 ],
 "metadata": {
  "hide_input": false,
  "kernelspec": {
   "display_name": "Python 3 (ipykernel)",
   "language": "python",
   "name": "python3"
  },
  "language_info": {
   "codemirror_mode": {
    "name": "ipython",
    "version": 3
   },
   "file_extension": ".py",
   "mimetype": "text/x-python",
   "name": "python",
   "nbconvert_exporter": "python",
   "pygments_lexer": "ipython3",
   "version": "3.9.7"
  }
 },
 "nbformat": 4,
 "nbformat_minor": 5
}
